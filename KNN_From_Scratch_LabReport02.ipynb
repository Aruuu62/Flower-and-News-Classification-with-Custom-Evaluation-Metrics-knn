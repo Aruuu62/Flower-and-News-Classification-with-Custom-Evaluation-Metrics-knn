{
  "cells": [
    {
      "cell_type": "markdown",
      "metadata": {
        "id": "view-in-github",
        "colab_type": "text"
      },
      "source": [
        "<a href=\"https://colab.research.google.com/github/Aruuu62/Flower-and-News-Classification-with-Custom-Evaluation-Metrics-knn/blob/main/KNN_From_Scratch_LabReport02.ipynb\" target=\"_parent\"><img src=\"https://colab.research.google.com/assets/colab-badge.svg\" alt=\"Open In Colab\"/></a>"
      ]
    },
    {
      "cell_type": "markdown",
      "id": "a1f2ae58",
      "metadata": {
        "id": "a1f2ae58"
      },
      "source": [
        "# KNN from Scratch: Iris and News Classification\n",
        "Lab Report 02 for CSE312\n"
      ]
    },
    {
      "cell_type": "code",
      "execution_count": 1,
      "id": "e32fef64",
      "metadata": {
        "id": "e32fef64"
      },
      "outputs": [],
      "source": [
        "import numpy as np\n",
        "import pandas as pd\n",
        "from collections import Counter\n",
        "from sklearn.datasets import load_iris\n",
        "from sklearn.model_selection import train_test_split\n",
        "from sklearn.preprocessing import LabelEncoder\n",
        "from sklearn.feature_extraction.text import CountVectorizer\n",
        "from sklearn.neighbors import KNeighborsClassifier as SklearnKNN\n"
      ]
    },
    {
      "cell_type": "code",
      "execution_count": 2,
      "id": "a73e291d",
      "metadata": {
        "id": "a73e291d"
      },
      "outputs": [],
      "source": [
        "class KNNClassifier:\n",
        "    def __init__(self, k=3):\n",
        "        self.k = k\n",
        "\n",
        "    def fit(self, X_train, y_train):\n",
        "        self.X_train = np.array(X_train)\n",
        "        self.y_train = np.array(y_train)\n",
        "\n",
        "    def predict(self, X_test):\n",
        "        predictions = []\n",
        "        for x in X_test:\n",
        "            distances = np.linalg.norm(self.X_train - x, axis=1)\n",
        "            k_indices = distances.argsort()[:self.k]\n",
        "            k_nearest_labels = self.y_train[k_indices]\n",
        "            most_common = Counter(k_nearest_labels).most_common(1)\n",
        "            predictions.append(most_common[0][0])\n",
        "        return np.array(predictions)\n"
      ]
    },
    {
      "cell_type": "code",
      "execution_count": 3,
      "id": "71eb883c",
      "metadata": {
        "id": "71eb883c"
      },
      "outputs": [],
      "source": [
        "def accuracy_score(y_true, y_pred):\n",
        "    return np.mean(y_true == y_pred)\n",
        "\n",
        "def confusion_matrix(y_true, y_pred, labels):\n",
        "    matrix = np.zeros((len(labels), len(labels)), dtype=int)\n",
        "    label_index = {label: idx for idx, label in enumerate(labels)}\n",
        "    for t, p in zip(y_true, y_pred):\n",
        "        matrix[label_index[t]][label_index[p]] += 1\n",
        "    return matrix\n",
        "\n",
        "def precision_recall_f1(y_true, y_pred, labels):\n",
        "    cm = confusion_matrix(y_true, y_pred, labels)\n",
        "    precision, recall, f1 = [], [], []\n",
        "    for i in range(len(labels)):\n",
        "        TP = cm[i][i]\n",
        "        FP = sum(cm[j][i] for j in range(len(labels)) if j != i)\n",
        "        FN = sum(cm[i][j] for j in range(len(labels)) if j != i)\n",
        "        p = TP / (TP + FP) if (TP + FP) else 0\n",
        "        r = TP / (TP + FN) if (TP + FN) else 0\n",
        "        f = 2 * p * r / (p + r) if (p + r) else 0\n",
        "        precision.append(p)\n",
        "        recall.append(r)\n",
        "        f1.append(f)\n",
        "    return precision, recall, f1\n"
      ]
    },
    {
      "cell_type": "code",
      "execution_count": 4,
      "id": "772aa89d",
      "metadata": {
        "id": "772aa89d",
        "colab": {
          "base_uri": "https://localhost:8080/",
          "height": 0
        },
        "outputId": "d31150bb-de57-4e79-a22f-dae3d761b6c7"
      },
      "outputs": [
        {
          "output_type": "stream",
          "name": "stdout",
          "text": [
            "Accuracy: 1.0\n",
            "Confusion Matrix:\n",
            " [[10  0  0]\n",
            " [ 0  9  0]\n",
            " [ 0  0 11]]\n",
            "Precision: [np.float64(1.0), np.float64(1.0), np.float64(1.0)]\n",
            "Recall: [np.float64(1.0), np.float64(1.0), np.float64(1.0)]\n",
            "F1 Score: [np.float64(1.0), np.float64(1.0), np.float64(1.0)]\n"
          ]
        }
      ],
      "source": [
        "iris = load_iris()\n",
        "X, y = iris.data, iris.target\n",
        "X_train, X_test, y_train, y_test = train_test_split(X, y, test_size=0.2, random_state=42)\n",
        "\n",
        "knn = KNNClassifier(k=3)\n",
        "knn.fit(X_train, y_train)\n",
        "y_pred = knn.predict(X_test)\n",
        "\n",
        "print(\"Accuracy:\", accuracy_score(y_test, y_pred))\n",
        "print(\"Confusion Matrix:\\n\", confusion_matrix(y_test, y_pred, list(set(y))))\n",
        "p, r, f = precision_recall_f1(y_test, y_pred, list(set(y)))\n",
        "print(\"Precision:\", p)\n",
        "print(\"Recall:\", r)\n",
        "print(\"F1 Score:\", f)\n"
      ]
    },
    {
      "cell_type": "code",
      "execution_count": 5,
      "id": "83d7a72c",
      "metadata": {
        "id": "83d7a72c",
        "colab": {
          "base_uri": "https://localhost:8080/",
          "height": 0
        },
        "outputId": "8f7611ed-6920-417d-ca5f-79c9ae2418a3"
      },
      "outputs": [
        {
          "output_type": "stream",
          "name": "stdout",
          "text": [
            "Accuracy: 0.5\n",
            "Confusion Matrix:\n",
            " [[1 0]\n",
            " [1 0]]\n",
            "Precision: [np.float64(0.5), 0]\n",
            "Recall: [np.float64(1.0), np.float64(0.0)]\n",
            "F1 Score: [np.float64(0.6666666666666666), 0]\n"
          ]
        }
      ],
      "source": [
        "# Simulated small dataset\n",
        "news_data = pd.DataFrame({\n",
        "    'text': [\n",
        "        \"government election policy parliament\",\n",
        "        \"team won the final match\",\n",
        "        \"new rules announced by the government\",\n",
        "        \"sports championship live score\",\n",
        "        \"minister held a press conference\",\n",
        "        \"player breaks world record in sprint\"\n",
        "    ],\n",
        "    'label': ['politics', 'sports', 'politics', 'sports', 'politics', 'sports']\n",
        "})\n",
        "\n",
        "vectorizer = CountVectorizer()\n",
        "X = vectorizer.fit_transform(news_data['text']).toarray()\n",
        "le = LabelEncoder()\n",
        "y = le.fit_transform(news_data['label'])\n",
        "\n",
        "X_train, X_test, y_train, y_test = train_test_split(X, y, test_size=0.33, random_state=1)\n",
        "\n",
        "knn_news = KNNClassifier(k=3)\n",
        "knn_news.fit(X_train, y_train)\n",
        "y_pred_news = knn_news.predict(X_test)\n",
        "\n",
        "print(\"Accuracy:\", accuracy_score(y_test, y_pred_news))\n",
        "print(\"Confusion Matrix:\\n\", confusion_matrix(y_test, y_pred_news, list(set(y))))\n",
        "p, r, f = precision_recall_f1(y_test, y_pred_news, list(set(y)))\n",
        "print(\"Precision:\", p)\n",
        "print(\"Recall:\", r)\n",
        "print(\"F1 Score:\", f)\n"
      ]
    },
    {
      "cell_type": "code",
      "execution_count": 6,
      "id": "fcd561fd",
      "metadata": {
        "id": "fcd561fd",
        "colab": {
          "base_uri": "https://localhost:8080/",
          "height": 0
        },
        "outputId": "6180146b-9c32-42fe-b09f-33d096c8e99e"
      },
      "outputs": [
        {
          "output_type": "stream",
          "name": "stdout",
          "text": [
            "Scikit-learn Accuracy: 0.5\n",
            "Scikit-learn Confusion Matrix:\n",
            " [[1 0]\n",
            " [1 0]]\n",
            "Scikit-learn Precision: [np.float64(0.5), 0]\n",
            "Scikit-learn Recall: [np.float64(1.0), np.float64(0.0)]\n",
            "Scikit-learn F1 Score: [np.float64(0.6666666666666666), 0]\n"
          ]
        }
      ],
      "source": [
        "# Comparison with sklearn\n",
        "sk_knn = SklearnKNN(n_neighbors=3)\n",
        "sk_knn.fit(X_train, y_train)\n",
        "y_pred_sklearn = sk_knn.predict(X_test)\n",
        "\n",
        "print(\"Scikit-learn Accuracy:\", accuracy_score(y_test, y_pred_sklearn))\n",
        "print(\"Scikit-learn Confusion Matrix:\\n\", confusion_matrix(y_test, y_pred_sklearn, list(set(y))))\n",
        "p, r, f = precision_recall_f1(y_test, y_pred_sklearn, list(set(y)))\n",
        "print(\"Scikit-learn Precision:\", p)\n",
        "print(\"Scikit-learn Recall:\", r)\n",
        "print(\"Scikit-learn F1 Score:\", f)\n"
      ]
    }
  ],
  "metadata": {
    "colab": {
      "provenance": [],
      "include_colab_link": true
    },
    "language_info": {
      "name": "python"
    },
    "kernelspec": {
      "name": "python3",
      "display_name": "Python 3"
    }
  },
  "nbformat": 4,
  "nbformat_minor": 5
}